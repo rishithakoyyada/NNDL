{
  "nbformat": 4,
  "nbformat_minor": 0,
  "metadata": {
    "colab": {
      "name": "Assignment8.ipynb",
      "provenance": [],
      "mount_file_id": "1GYEIEWhvwDiMNdN2weOGRa8cZLSlcyll",
      "authorship_tag": "ABX9TyOOBJ+5rehtYfdj08RV+1FT",
      "include_colab_link": true
    },
    "kernelspec": {
      "name": "python3",
      "display_name": "Python 3"
    },
    "language_info": {
      "name": "python"
    }
  },
  "cells": [
    {
      "cell_type": "markdown",
      "metadata": {
        "id": "view-in-github",
        "colab_type": "text"
      },
      "source": [
        "<a href=\"https://colab.research.google.com/github/rishithakoyyada/NNDL/blob/main/Assignment8.ipynb\" target=\"_parent\"><img src=\"https://colab.research.google.com/assets/colab-badge.svg\" alt=\"Open In Colab\"/></a>"
      ]
    },
    {
      "cell_type": "code",
      "metadata": {
        "id": "Bjtp-nAYl2VX"
      },
      "source": [
        "import numpy as np\n",
        "import matplotlib.pyplot as plt\n",
        "import pandas as pd\n",
        "from sklearn.preprocessing import minmax_scale\n",
        "from sklearn.model_selection import train_test_split\n",
        "import seaborn as sns\n",
        "from scipy import stats"
      ],
      "execution_count": 3,
      "outputs": []
    },
    {
      "cell_type": "code",
      "metadata": {
        "colab": {
          "base_uri": "https://localhost:8080/",
          "height": 221
        },
        "id": "FxRmBQnHmE2i",
        "outputId": "7fc3f311-0eef-4364-df48-8f40da2f0d89"
      },
      "source": [
        "data = pd.read_excel(\"/content/drive/MyDrive/pressure_weight.xls\")\n",
        "data.head()"
      ],
      "execution_count": 4,
      "outputs": [
        {
          "output_type": "stream",
          "text": [
            "*** No CODEPAGE record, no encoding_override: will use 'ascii'\n"
          ],
          "name": "stdout"
        },
        {
          "output_type": "execute_result",
          "data": {
            "text/html": [
              "<div>\n",
              "<style scoped>\n",
              "    .dataframe tbody tr th:only-of-type {\n",
              "        vertical-align: middle;\n",
              "    }\n",
              "\n",
              "    .dataframe tbody tr th {\n",
              "        vertical-align: top;\n",
              "    }\n",
              "\n",
              "    .dataframe thead th {\n",
              "        text-align: right;\n",
              "    }\n",
              "</style>\n",
              "<table border=\"1\" class=\"dataframe\">\n",
              "  <thead>\n",
              "    <tr style=\"text-align: right;\">\n",
              "      <th></th>\n",
              "      <th>X</th>\n",
              "      <th>Y</th>\n",
              "    </tr>\n",
              "  </thead>\n",
              "  <tbody>\n",
              "    <tr>\n",
              "      <th>0</th>\n",
              "      <td>75.1</td>\n",
              "      <td>577.8</td>\n",
              "    </tr>\n",
              "    <tr>\n",
              "      <th>1</th>\n",
              "      <td>74.3</td>\n",
              "      <td>577.0</td>\n",
              "    </tr>\n",
              "    <tr>\n",
              "      <th>2</th>\n",
              "      <td>88.7</td>\n",
              "      <td>570.9</td>\n",
              "    </tr>\n",
              "    <tr>\n",
              "      <th>3</th>\n",
              "      <td>114.6</td>\n",
              "      <td>578.6</td>\n",
              "    </tr>\n",
              "    <tr>\n",
              "      <th>4</th>\n",
              "      <td>98.5</td>\n",
              "      <td>572.4</td>\n",
              "    </tr>\n",
              "  </tbody>\n",
              "</table>\n",
              "</div>"
            ],
            "text/plain": [
              "       X      Y\n",
              "0   75.1  577.8\n",
              "1   74.3  577.0\n",
              "2   88.7  570.9\n",
              "3  114.6  578.6\n",
              "4   98.5  572.4"
            ]
          },
          "metadata": {
            "tags": []
          },
          "execution_count": 4
        }
      ]
    },
    {
      "cell_type": "code",
      "metadata": {
        "colab": {
          "base_uri": "https://localhost:8080/"
        },
        "id": "PzF7Jq8amfRy",
        "outputId": "ed8e4ba6-6c18-4a7d-ef5c-8108b3579e90"
      },
      "source": [
        "data.info()"
      ],
      "execution_count": 5,
      "outputs": [
        {
          "output_type": "stream",
          "text": [
            "<class 'pandas.core.frame.DataFrame'>\n",
            "RangeIndex: 30 entries, 0 to 29\n",
            "Data columns (total 2 columns):\n",
            " #   Column  Non-Null Count  Dtype  \n",
            "---  ------  --------------  -----  \n",
            " 0   X       30 non-null     float64\n",
            " 1   Y       30 non-null     float64\n",
            "dtypes: float64(2)\n",
            "memory usage: 608.0 bytes\n"
          ],
          "name": "stdout"
        }
      ]
    },
    {
      "cell_type": "code",
      "metadata": {
        "colab": {
          "base_uri": "https://localhost:8080/"
        },
        "id": "OIf9irjwmmrA",
        "outputId": "f37dd567-3ef5-4808-9db3-f308410e4070"
      },
      "source": [
        "z = np.abs(stats.zscore(data))\n",
        "print(z)"
      ],
      "execution_count": 6,
      "outputs": [
        {
          "output_type": "stream",
          "text": [
            "[[0.90855142 1.61656054]\n",
            " [0.95645395 1.59597943]\n",
            " [0.09420832 1.43904846]\n",
            " [1.45663625 1.63714165]\n",
            " [0.49259774 1.47763804]\n",
            " [1.30095302 2.6694559 ]\n",
            " [1.46861189 0.430574  ]\n",
            " [1.68097979 1.25896373]\n",
            " [1.00156217 2.78522465]\n",
            " [0.01357238 0.20229517]\n",
            " [0.98639304 0.47756754]\n",
            " [1.52849006 0.25117531]\n",
            " [0.54648809 0.22030365]\n",
            " [0.16326781 0.12254337]\n",
            " [0.98040522 0.28461962]\n",
            " [1.4714062  0.22544892]\n",
            " [1.44146712 0.22287629]\n",
            " [0.74089254 0.12254337]\n",
            " [1.16922104 0.16370559]\n",
            " [0.9057571  0.10453489]\n",
            " [0.10019614 0.24603004]\n",
            " [0.04031797 0.05565476]\n",
            " [0.98639304 0.31291865]\n",
            " [0.66025661 0.56503726]\n",
            " [1.77997837 0.10710753]\n",
            " [0.86064888 0.05565476]\n",
            " [0.84268543 0.04021892]\n",
            " [0.50137987 0.12768865]\n",
            " [0.35767226 0.27432906]\n",
            " [0.46265865 0.18102803]]\n"
          ],
          "name": "stdout"
        }
      ]
    },
    {
      "cell_type": "code",
      "metadata": {
        "colab": {
          "base_uri": "https://localhost:8080/",
          "height": 296
        },
        "id": "YuNytD5UmsDc",
        "outputId": "779ff712-9515-4a88-b66d-f80af774f56d"
      },
      "source": [
        "sns.boxplot(x=data['X'])"
      ],
      "execution_count": 7,
      "outputs": [
        {
          "output_type": "execute_result",
          "data": {
            "text/plain": [
              "<matplotlib.axes._subplots.AxesSubplot at 0x7f8b57abb2d0>"
            ]
          },
          "metadata": {
            "tags": []
          },
          "execution_count": 7
        },
        {
          "output_type": "display_data",
          "data": {
            "image/png": "[encoded data removed]",
            "text/plain": [
              "<Figure size 432x288 with 1 Axes>"
            ]
          },
          "metadata": {
            "tags": [],
            "needs_background": "light"
          }
        }
      ]
    },
    {
      "cell_type": "code",
      "metadata": {
        "colab": {
          "base_uri": "https://localhost:8080/",
          "height": 269
        },
        "id": "_Qf2s38GmxnA",
        "outputId": "3b52e041-da4c-4612-da94-9f57b7903db9"
      },
      "source": [
        "sns.boxplot(y=data['Y'])"
      ],
      "execution_count": 8,
      "outputs": [
        {
          "output_type": "execute_result",
          "data": {
            "text/plain": [
              "<matplotlib.axes._subplots.AxesSubplot at 0x7f8b57a24d10>"
            ]
          },
          "metadata": {
            "tags": []
          },
          "execution_count": 8
        },
        {
          "output_type": "display_data",
          "data": {
            "image/png": "[encoded data removed]",
            "text/plain": [
              "<Figure size 432x288 with 1 Axes>"
            ]
          },
          "metadata": {
            "tags": [],
            "needs_background": "light"
          }
        }
      ]
    },
    {
      "cell_type": "code",
      "metadata": {
        "colab": {
          "base_uri": "https://localhost:8080/",
          "height": 204
        },
        "id": "EupxdEPTm4ud",
        "outputId": "2fe85938-e2f2-48b0-eccd-e0805b828acf"
      },
      "source": [
        "f_data = data[(z < 3).all(axis=1)]\n",
        "f_data.head()"
      ],
      "execution_count": 9,
      "outputs": [
        {
          "output_type": "execute_result",
          "data": {
            "text/html": [
              "<div>\n",
              "<style scoped>\n",
              "    .dataframe tbody tr th:only-of-type {\n",
              "        vertical-align: middle;\n",
              "    }\n",
              "\n",
              "    .dataframe tbody tr th {\n",
              "        vertical-align: top;\n",
              "    }\n",
              "\n",
              "    .dataframe thead th {\n",
              "        text-align: right;\n",
              "    }\n",
              "</style>\n",
              "<table border=\"1\" class=\"dataframe\">\n",
              "  <thead>\n",
              "    <tr style=\"text-align: right;\">\n",
              "      <th></th>\n",
              "      <th>X</th>\n",
              "      <th>Y</th>\n",
              "    </tr>\n",
              "  </thead>\n",
              "  <tbody>\n",
              "    <tr>\n",
              "      <th>0</th>\n",
              "      <td>75.1</td>\n",
              "      <td>577.8</td>\n",
              "    </tr>\n",
              "    <tr>\n",
              "      <th>1</th>\n",
              "      <td>74.3</td>\n",
              "      <td>577.0</td>\n",
              "    </tr>\n",
              "    <tr>\n",
              "      <th>2</th>\n",
              "      <td>88.7</td>\n",
              "      <td>570.9</td>\n",
              "    </tr>\n",
              "    <tr>\n",
              "      <th>3</th>\n",
              "      <td>114.6</td>\n",
              "      <td>578.6</td>\n",
              "    </tr>\n",
              "    <tr>\n",
              "      <th>4</th>\n",
              "      <td>98.5</td>\n",
              "      <td>572.4</td>\n",
              "    </tr>\n",
              "  </tbody>\n",
              "</table>\n",
              "</div>"
            ],
            "text/plain": [
              "       X      Y\n",
              "0   75.1  577.8\n",
              "1   74.3  577.0\n",
              "2   88.7  570.9\n",
              "3  114.6  578.6\n",
              "4   98.5  572.4"
            ]
          },
          "metadata": {
            "tags": []
          },
          "execution_count": 9
        }
      ]
    },
    {
      "cell_type": "code",
      "metadata": {
        "colab": {
          "base_uri": "https://localhost:8080/"
        },
        "id": "tEKydtC6m9m7",
        "outputId": "db8ffca6-7e0d-421c-f737-a48822f3ed4a"
      },
      "source": [
        "print(len(data))\n",
        "print(len(f_data))\n",
        "if(len(data) == len(f_data)):\n",
        "    print('No outliners')"
      ],
      "execution_count": 10,
      "outputs": [
        {
          "output_type": "stream",
          "text": [
            "30\n",
            "30\n",
            "No outliners\n"
          ],
          "name": "stdout"
        }
      ]
    },
    {
      "cell_type": "code",
      "metadata": {
        "colab": {
          "base_uri": "https://localhost:8080/",
          "height": 204
        },
        "id": "pe0iHYKKnD7J",
        "outputId": "a3fc5eca-21d4-4c5d-e50d-7320dfedcc67"
      },
      "source": [
        "data_n = data.copy()\n",
        "data_n = (data_n - data_n.min())/(data_n.max() - data_n.min())\n",
        "data_n.head()"
      ],
      "execution_count": 11,
      "outputs": [
        {
          "output_type": "execute_result",
          "data": {
            "text/html": [
              "<div>\n",
              "<style scoped>\n",
              "    .dataframe tbody tr th:only-of-type {\n",
              "        vertical-align: middle;\n",
              "    }\n",
              "\n",
              "    .dataframe tbody tr th {\n",
              "        vertical-align: top;\n",
              "    }\n",
              "\n",
              "    .dataframe thead th {\n",
              "        text-align: right;\n",
              "    }\n",
              "</style>\n",
              "<table border=\"1\" class=\"dataframe\">\n",
              "  <thead>\n",
              "    <tr style=\"text-align: right;\">\n",
              "      <th></th>\n",
              "      <th>X</th>\n",
              "      <th>Y</th>\n",
              "    </tr>\n",
              "  </thead>\n",
              "  <tbody>\n",
              "    <tr>\n",
              "      <th>0</th>\n",
              "      <td>0.223183</td>\n",
              "      <td>0.995346</td>\n",
              "    </tr>\n",
              "    <tr>\n",
              "      <th>1</th>\n",
              "      <td>0.209343</td>\n",
              "      <td>0.990692</td>\n",
              "    </tr>\n",
              "    <tr>\n",
              "      <th>2</th>\n",
              "      <td>0.458478</td>\n",
              "      <td>0.955207</td>\n",
              "    </tr>\n",
              "    <tr>\n",
              "      <th>3</th>\n",
              "      <td>0.906574</td>\n",
              "      <td>1.000000</td>\n",
              "    </tr>\n",
              "    <tr>\n",
              "      <th>4</th>\n",
              "      <td>0.628028</td>\n",
              "      <td>0.963933</td>\n",
              "    </tr>\n",
              "  </tbody>\n",
              "</table>\n",
              "</div>"
            ],
            "text/plain": [
              "          X         Y\n",
              "0  0.223183  0.995346\n",
              "1  0.209343  0.990692\n",
              "2  0.458478  0.955207\n",
              "3  0.906574  1.000000\n",
              "4  0.628028  0.963933"
            ]
          },
          "metadata": {
            "tags": []
          },
          "execution_count": 11
        }
      ]
    },
    {
      "cell_type": "code",
      "metadata": {
        "id": "5WEqJqH2nIxm"
      },
      "source": [
        "train_data,test_data = train_test_split(data_n,test_size=0.1)"
      ],
      "execution_count": 12,
      "outputs": []
    },
    {
      "cell_type": "code",
      "metadata": {
        "colab": {
          "base_uri": "https://localhost:8080/",
          "height": 221
        },
        "id": "-nlURj55nORT",
        "outputId": "7b83b1e0-061b-41a0-8a9e-8f804f623ce3"
      },
      "source": [
        "print(len(train_data))\n",
        "train_data.head()"
      ],
      "execution_count": 13,
      "outputs": [
        {
          "output_type": "stream",
          "text": [
            "27\n"
          ],
          "name": "stdout"
        },
        {
          "output_type": "execute_result",
          "data": {
            "text/html": [
              "<div>\n",
              "<style scoped>\n",
              "    .dataframe tbody tr th:only-of-type {\n",
              "        vertical-align: middle;\n",
              "    }\n",
              "\n",
              "    .dataframe tbody tr th {\n",
              "        vertical-align: top;\n",
              "    }\n",
              "\n",
              "    .dataframe thead th {\n",
              "        text-align: right;\n",
              "    }\n",
              "</style>\n",
              "<table border=\"1\" class=\"dataframe\">\n",
              "  <thead>\n",
              "    <tr style=\"text-align: right;\">\n",
              "      <th></th>\n",
              "      <th>X</th>\n",
              "      <th>Y</th>\n",
              "    </tr>\n",
              "  </thead>\n",
              "  <tbody>\n",
              "    <tr>\n",
              "      <th>23</th>\n",
              "      <td>0.676471</td>\n",
              "      <td>0.502036</td>\n",
              "    </tr>\n",
              "    <tr>\n",
              "      <th>1</th>\n",
              "      <td>0.209343</td>\n",
              "      <td>0.990692</td>\n",
              "    </tr>\n",
              "    <tr>\n",
              "      <th>26</th>\n",
              "      <td>0.242215</td>\n",
              "      <td>0.620710</td>\n",
              "    </tr>\n",
              "    <tr>\n",
              "      <th>20</th>\n",
              "      <td>0.456747</td>\n",
              "      <td>0.574171</td>\n",
              "    </tr>\n",
              "    <tr>\n",
              "      <th>7</th>\n",
              "      <td>0.000000</td>\n",
              "      <td>0.914485</td>\n",
              "    </tr>\n",
              "  </tbody>\n",
              "</table>\n",
              "</div>"
            ],
            "text/plain": [
              "           X         Y\n",
              "23  0.676471  0.502036\n",
              "1   0.209343  0.990692\n",
              "26  0.242215  0.620710\n",
              "20  0.456747  0.574171\n",
              "7   0.000000  0.914485"
            ]
          },
          "metadata": {
            "tags": []
          },
          "execution_count": 13
        }
      ]
    },
    {
      "cell_type": "code",
      "metadata": {
        "id": "3AP0auVwnTT-"
      },
      "source": [
        "xa = np.array(train_data['X'])\n",
        "ya = np.array(train_data['Y'])"
      ],
      "execution_count": 15,
      "outputs": []
    },
    {
      "cell_type": "code",
      "metadata": {
        "colab": {
          "base_uri": "https://localhost:8080/"
        },
        "id": "x2I3vevAnbzI",
        "outputId": "ef4ca035-34ee-436f-ae57-2f5a6cf56fa9"
      },
      "source": [
        "from sympy import Symbol, Derivative, symbols\n",
        "m= Symbol('m')\n",
        "c= Symbol('c')\n",
        "function = '0.5*(y-m*x-c)**2'\n",
        "partialderiv= Derivative(function, m)\n",
        "dfm = partialderiv.doit()\n",
        "partialderiv= Derivative(function, c)\n",
        "dfc = partialderiv.doit()\n",
        "\n",
        "print(f'first order derivatives of given function are de/dm = {dfm} ,de/dc = {dfc}')\n",
        "err = []\n",
        "#step 1 initialise values \n",
        "m1 = -1.0 \n",
        "c1 = 1.0  #variable x, y\n",
        "itr = 100  #epoches\n",
        "learning_rate = 0.1  #learning rate\n",
        "for i in range(0,itr):\n",
        "    dfmv1 = 0\n",
        "    dfcv1 = 0\n",
        "    er = 0\n",
        "    for j in range(0,len(xa)):\n",
        "        er +=  ((ya[j] - (m1 * xa[j]) - c1))**2\n",
        "        #step 2 substitute x ,y in first order derivatives df/dx, df/dy\n",
        "        m = symbols('m')\n",
        "        c = symbols('c')\n",
        "        x = symbols('x')\n",
        "        y = symbols('y')\n",
        "        dfmv = dfm.subs(m, m1) \n",
        "        dfmv = dfmv.subs(c, c1) \n",
        "        dfmv = dfmv.subs(x, xa[j]) \n",
        "        dfmv = dfmv.subs(y, ya[j]) \n",
        "        dfmv = round(dfmv,2)\n",
        "        dfcv = dfc.subs(c, c1) \n",
        "        dfcv = dfcv.subs(m, m1) \n",
        "        dfcv = dfcv.subs(x, xa[j]) \n",
        "        dfcv = dfcv.subs(y, ya[j]) \n",
        "        dfcv = round(dfcv,2)\n",
        "        dfmv1 += dfmv\n",
        "        dfcv1 += dfcv\n",
        "    dfmv1 = dfmv1/len(xa)\n",
        "    dfcv1 = dfcv1/len(xa)\n",
        "    \n",
        "    dfmv1 = round(dfmv1,2)\n",
        "    dfcv1 = round(dfcv1,2)\n",
        "    #step3 find change in x , y\n",
        "    dm = (-1.0)*learning_rate*dfmv1\n",
        "    dc = (-1.0)*learning_rate*dfcv1\n",
        "    #step4 update variable \n",
        "    m1 = m1 + dm\n",
        "    m1 = round(m1, 2) \n",
        "    c1 = c1 + dc\n",
        "    c1 = round(c1, 2)\n",
        "    er = (1/(2*len(train_data['X'])))*(er)\n",
        "    err.append(er)\n",
        "    #step5 increment iterations \n",
        "    #step6 break loop if iterations exceed no of epoches\n",
        "#step7 print variable x1, y1\n",
        "print(m1, c1)\n",
        "print(f'minimum value obtained at m = {m1} ,c ={c1} for given function')"
      ],
      "execution_count": 16,
      "outputs": [
        {
          "output_type": "stream",
          "text": [
            "first order derivatives of given function are de/dm = -1.0*x*(-c - m*x + y) ,de/dc = 1.0*c + 1.0*m*x - 1.0*y\n",
            "-0.86 1.06\n",
            "minimum value obtained at m = -0.86 ,c =1.06 for given function\n"
          ],
          "name": "stdout"
        }
      ]
    },
    {
      "cell_type": "code",
      "metadata": {
        "colab": {
          "base_uri": "https://localhost:8080/"
        },
        "id": "h7L-x5hnn2Os",
        "outputId": "4eeffe81-601f-4ab4-9554-a91b94d1a7af"
      },
      "source": [
        "train_data_pred =  m1*train_data['X'] + c1\n",
        "\n",
        "from sklearn.metrics import mean_squared_error\n",
        "mse = mean_squared_error(train_data['Y'],train_data_pred)\n",
        "mse"
      ],
      "execution_count": 17,
      "outputs": [
        {
          "output_type": "execute_result",
          "data": {
            "text/plain": [
              "0.08768335164141841"
            ]
          },
          "metadata": {
            "tags": []
          },
          "execution_count": 17
        }
      ]
    },
    {
      "cell_type": "code",
      "metadata": {
        "colab": {
          "base_uri": "https://localhost:8080/",
          "height": 298
        },
        "id": "dnl26gVIn7fx",
        "outputId": "b787d843-ef1f-4c57-d3aa-c3ff6fc06b06"
      },
      "source": [
        "plt.plot(np.array(train_data['X']),np.array(train_data_pred),'green')\n",
        "plt.scatter(np.array(train_data['X']),np.array(train_data['Y']),color='red')\n",
        "plt.title('predicted data vs actual data')"
      ],
      "execution_count": 18,
      "outputs": [
        {
          "output_type": "execute_result",
          "data": {
            "text/plain": [
              "Text(0.5, 1.0, 'predicted data vs actual data')"
            ]
          },
          "metadata": {
            "tags": []
          },
          "execution_count": 18
        },
        {
          "output_type": "display_data",
          "data": {
            "image/png": "[encoded data removed]",
            "text/plain": [
              "<Figure size 432x288 with 1 Axes>"
            ]
          },
          "metadata": {
            "tags": [],
            "needs_background": "light"
          }
        }
      ]
    },
    {
      "cell_type": "code",
      "metadata": {
        "colab": {
          "base_uri": "https://localhost:8080/",
          "height": 295
        },
        "id": "LAdh-hWGoAVa",
        "outputId": "d99712d3-6cbc-460c-a071-c608457caf84"
      },
      "source": [
        "iters = np.arange(itr)\n",
        "plt.plot(iters,err,'green')\n",
        "plt.title(\"Error graph for training data\")\n",
        "plt.xlabel(\"iteration count\")\n",
        "plt.ylabel(\"error\")\n",
        "plt.grid()"
      ],
      "execution_count": 19,
      "outputs": [
        {
          "output_type": "display_data",
          "data": {
            "image/png": "[encoded data removed]",
            "text/plain": [
              "<Figure size 432x288 with 1 Axes>"
            ]
          },
          "metadata": {
            "tags": [],
            "needs_background": "light"
          }
        }
      ]
    },
    {
      "cell_type": "code",
      "metadata": {
        "colab": {
          "base_uri": "https://localhost:8080/"
        },
        "id": "5pUOMGjYoGdU",
        "outputId": "fe1707d2-a739-4b9e-8644-09d44ffc28d6"
      },
      "source": [
        "test_data_pred = m1 *test_data['X'] + c1\n",
        "mse2 = mean_squared_error(test_data['Y'],test_data_pred)\n",
        "mse2"
      ],
      "execution_count": 20,
      "outputs": [
        {
          "output_type": "execute_result",
          "data": {
            "text/plain": [
              "0.07992835923954973"
            ]
          },
          "metadata": {
            "tags": []
          },
          "execution_count": 20
        }
      ]
    },
    {
      "cell_type": "code",
      "metadata": {
        "colab": {
          "base_uri": "https://localhost:8080/",
          "height": 265
        },
        "id": "OaYdU2dAoKzV",
        "outputId": "298f53e7-3adc-4d01-f127-d970226b973d"
      },
      "source": [
        "plt.scatter(test_data['X'],test_data['Y'],color='red')\n",
        "plt.plot(test_data['X'],test_data_pred,'green')\n",
        "plt.grid()"
      ],
      "execution_count": 21,
      "outputs": [
        {
          "output_type": "display_data",
          "data": {
            "image/png": "[encoded data removed]",
            "text/plain": [
              "<Figure size 432x288 with 1 Axes>"
            ]
          },
          "metadata": {
            "tags": [],
            "needs_background": "light"
          }
        }
      ]
    },
    {
      "cell_type": "code",
      "metadata": {
        "id": "qzZok9SqoPyK"
      },
      "source": [
        "\n",
        "x_min = data['X'].min()\n",
        "x_max = data['X'].max()\n",
        "y_min = data['Y'].min()\n",
        "y_max = data['Y'].max()"
      ],
      "execution_count": 23,
      "outputs": []
    },
    {
      "cell_type": "code",
      "metadata": {
        "colab": {
          "base_uri": "https://localhost:8080/"
        },
        "id": "MzL5WApgodU2",
        "outputId": "05965755-c2c1-4a04-acd1-df757358b2b6"
      },
      "source": [
        "x =x1 = float(input(\"enter pressure of liquid nitrogen value :\"))\n",
        "x = (x - x_min)/(x_max - x_min)\n",
        "y = m1*x + c1\n",
        "y = y*(y_max - y_min) + y_min\n",
        "print(f\"weight of liquid nitrogen based on its pressure {x1} is : {y}\")"
      ],
      "execution_count": 25,
      "outputs": [
        {
          "output_type": "stream",
          "text": [
            "enter pressure of liquid nitrogen value :74.3\n",
            "weight of liquid nitrogen based on its pressure 74.3 is : 557.963472845480\n"
          ],
          "name": "stdout"
        }
      ]
    }
  ]
}