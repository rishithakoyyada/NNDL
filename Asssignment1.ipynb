{
  "nbformat": 4,
  "nbformat_minor": 0,
  "metadata": {
    "colab": {
      "name": "Asssignment1.ipynb",
      "provenance": [],
      "authorship_tag": "ABX9TyP3OOYRfKAb7fpJfWL7TKpB",
      "include_colab_link": true
    },
    "kernelspec": {
      "name": "python3",
      "display_name": "Python 3"
    },
    "language_info": {
      "name": "python"
    }
  },
  "cells": [
    {
      "cell_type": "markdown",
      "metadata": {
        "id": "view-in-github",
        "colab_type": "text"
      },
      "source": [
        "<a href=\"https://colab.research.google.com/github/rishithakoyyada/NNDL/blob/main/Asssignment1.ipynb\" target=\"_parent\"><img src=\"https://colab.research.google.com/assets/colab-badge.svg\" alt=\"Open In Colab\"/></a>"
      ]
    },
    {
      "cell_type": "code",
      "metadata": {
        "colab": {
          "base_uri": "https://localhost:8080/"
        },
        "id": "MIvveiCi-XQx",
        "outputId": "f9f91824-0837-48a9-986f-86ff80319352"
      },
      "source": [
        "from sympy import *\n",
        "#calculating first order derivative\n",
        "x = Symbol('x')\n",
        "y = diff(x**4+3*x**2+10,x)\n",
        "print(f'first order derivative of given function is {y}')\n",
        "\n",
        "#step 1 initialise values \n",
        "x1 = 1.0  #variable x\n",
        "itr = 20  #epoches\n",
        "learning_rate = 0.1  #learning rate\n",
        "for i in range(0,itr):\n",
        "    #step 2 substitute x in first order derivative\n",
        "    x = symbols('x')\n",
        "    df = y.subs(x, x1) \n",
        "    df = round(df,2)\n",
        "    #step3 find change in x \n",
        "    dx = (-1.0)*learning_rate*df\n",
        "    #step4 update variable \n",
        "    x1 = x1 + dx\n",
        "    x1 = round(x1, 2)\n",
        "    #step5 increment iterations \n",
        "    #step6 break loop if iterations exceed no of epoches\n",
        "#step7 print variable x1\n",
        "print(x1)\n",
        "print(f'minimum value obtained at x = {x1} for given function')\n",
        "fn = x**4+3*x**2+10\n",
        "print(f'value for given function(f(x)) at minimum value x = {x1} is {fn.subs(x,x1)}')"
      ],
      "execution_count": 1,
      "outputs": [
        {
          "output_type": "stream",
          "text": [
            "first order derivative of given function is 4*x**3 + 6*x\n",
            "0\n",
            "minimum value obtained at x = 0 for given function\n",
            "value for given function(f(x)) at minimum value x = 0 is 10\n"
          ],
          "name": "stdout"
        }
      ]
    }
  ]
}